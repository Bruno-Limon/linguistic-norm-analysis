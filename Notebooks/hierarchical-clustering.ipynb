{
  "cells": [
    {
      "cell_type": "code",
      "execution_count": null,
      "metadata": {
        "id": "3L6OZi_pYnXT"
      },
      "outputs": [],
      "source": [
        "%matplotlib inline\n",
        "\n",
        "import numpy as np\n",
        "import pandas as pd\n",
        "import matplotlib.pyplot as plt \n",
        "import seaborn as sb\n",
        "from mpl_toolkits.mplot3d import Axes3D\n"
      ]
    },
    {
      "cell_type": "code",
      "execution_count": null,
      "metadata": {
        "id": "wt3RR5csZEsF"
      },
      "outputs": [],
      "source": [
        "#scaling, normalization\n",
        "from sklearn.preprocessing import StandardScaler, MinMaxScaler, RobustScaler\n",
        "#kmeans, dbscan, hierarchical (sklearn)\n",
        "from sklearn.cluster import KMeans, DBSCAN, AgglomerativeClustering\n",
        "#evaluation\n",
        "from sklearn.metrics import silhouette_score\n",
        "\n",
        "#distance matrix (dbscan elbow, hierarchical)\n",
        "from scipy.spatial.distance import pdist, squareform\n",
        "# hierarchical (scipy)\n",
        "from scipy.cluster.hierarchy import linkage, dendrogram"
      ]
    },
    {
      "cell_type": "code",
      "execution_count": null,
      "metadata": {
        "colab": {
          "base_uri": "https://localhost:8080/",
          "height": 226
        },
        "id": "oj8EnABRZHF3",
        "outputId": "f96567c9-4134-42e1-ee75-5492d4233e8e"
      },
      "outputs": [],
      "source": [
        "df = pd.read_csv(r\"words_glasgow.csv\",skipinitialspace=True)\n",
        "\n",
        "df2 = df.copy()\n",
        "\n",
        "df2[\"perceivability\"] = df2[[\"imageability\", \"concreteness\"]].mean(axis=1)\n",
        "\n",
        "dfpp1 = df2.drop([\"word\", \"polysemy\",\"length\", 'web_corpus_freq'], axis=1)\n",
        "\n",
        "scaler = MinMaxScaler()\n",
        "\n",
        "Y=dfpp1.values\n",
        "\n",
        "Y_minmax = scaler.fit_transform(Y)\n",
        "\n",
        "scaled_df = pd.DataFrame(data = Y_minmax, columns = dfpp1.columns)\n",
        "\n",
        "scaled_df.head()"
      ]
    },
    {
      "cell_type": "code",
      "execution_count": null,
      "metadata": {
        "colab": {
          "base_uri": "https://localhost:8080/",
          "height": 54
        },
        "id": "qu94AhPBavmy",
        "outputId": "450529d4-fd86-4e64-c3ad-0b304976bb67"
      },
      "outputs": [],
      "source": [
        "scaler = MinMaxScaler()\n",
        "\n",
        "var = ['arousal', 'valence', 'dominance', 'perceivability', 'familiarity', 'aoa','semsize','gender']\n",
        "'''\n",
        "for e in var:\n",
        "    print(e)\n",
        "    Y = df2[[e]].values\n",
        "    Y_minmax = scaler.fit_transform(Y)\n",
        "    plt.hist(Y_minmax, edgecolor='white')\n",
        "    plt.show()\n",
        "'''\n",
        "df2.head()\n",
        "'''\n",
        "Y=df2[var].values\n",
        "\n",
        "scaled_df = pd.DataFrame(data = Y_minmax, columns = df2.columns)\n",
        "\n",
        "scaled_df.head()\n",
        "\n",
        "print(Y)\n",
        "'''"
      ]
    },
    {
      "cell_type": "code",
      "execution_count": null,
      "metadata": {
        "colab": {
          "base_uri": "https://localhost:8080/",
          "height": 281
        },
        "id": "bd6T2cctcjqw",
        "outputId": "235a83a2-204e-45a7-e884-3c8191d5e935"
      },
      "outputs": [],
      "source": [
        "data_dist = pdist(Y_minmax, metric='euclidean')\n",
        "data_link = linkage(data_dist, method='ward')\n",
        "\n",
        "res = dendrogram(data_link, truncate_mode='lastp')"
      ]
    },
    {
      "cell_type": "code",
      "execution_count": null,
      "metadata": {
        "colab": {
          "base_uri": "https://localhost:8080/",
          "height": 274
        },
        "id": "dp_oUYQ9dbox",
        "outputId": "99053dce-e8b6-4c44-b741-f19fbf52be22"
      },
      "outputs": [],
      "source": [
        "hier = AgglomerativeClustering(n_clusters=7, affinity='euclidean', linkage='ward')\n",
        "hier.fit(Y_minmax)\n",
        "hier.labels_\n",
        "hier.n_clusters_\n",
        "#hier.n_leaves_\n",
        "\n",
        "plt.scatter( Y[:,0], Y[:,2], s=50, c= hier.labels_, marker='.' )\n",
        "\n",
        "plt.xticks(fontsize=20)\n",
        "plt.yticks(fontsize=20)\n",
        "\n",
        "plt.show()"
      ]
    },
    {
      "cell_type": "markdown",
      "metadata": {
        "id": "OZDBTgIXp0CB"
      },
      "source": [
        "## Impatto emozionale\n"
      ]
    },
    {
      "cell_type": "markdown",
      "metadata": {
        "id": "2vYD9cDkp7Yy"
      },
      "source": []
    },
    {
      "cell_type": "code",
      "execution_count": null,
      "metadata": {
        "colab": {
          "base_uri": "https://localhost:8080/",
          "height": 285
        },
        "id": "if5l0XCapzeg",
        "outputId": "cffac3d2-19a5-4691-cf47-336c2b6bbb04"
      },
      "outputs": [],
      "source": [
        "df1emo = scaled_df.drop(['concreteness','imageability','familiarity','aoa','semsize','gender','perceivability'], axis=1)\n",
        "\n",
        "Yemo=df1emo.values\n",
        "\n",
        "\n",
        "data_dist = pdist(Yemo, metric='euclidean')\n",
        "data_link = linkage(data_dist, method='ward')\n",
        "\n",
        "\n",
        "res= dendrogram(data_link, truncate_mode='lastp')\n"
      ]
    },
    {
      "cell_type": "code",
      "execution_count": null,
      "metadata": {
        "colab": {
          "base_uri": "https://localhost:8080/",
          "height": 248
        },
        "id": "V1Bve2GrrCUc",
        "outputId": "df1ea620-97f9-4c3a-d79c-4e62856f1842"
      },
      "outputs": [],
      "source": [
        "hier = AgglomerativeClustering(n_clusters=4, affinity='euclidean', linkage='ward')\n",
        "hier.fit(Yemo)\n",
        "hier.labels_\n",
        "hier.n_clusters_\n",
        "#hier.n_leaves_\n",
        "\n",
        "fig = plt.figure()\n",
        "ax = fig.add_subplot(111, projection='3d')\n",
        "\n",
        "ax.scatter(Yemo[:,0], Yemo[:,1], Yemo[:,2], s=1,c= hier.labels_, marker='.')\n",
        "\n",
        "\n",
        "#ax.plot3D(Yemo[:,1], Yemo[:,2], Yemo[:,3], c= hier.labels_, marker='.')\n",
        "\n",
        "#plt.scatter( Yemo[:,1], Yemo[:,2], s=50, c= hier.labels_, marker='.' )\n",
        "\n",
        "\n",
        "\n",
        "plt.show()"
      ]
    },
    {
      "cell_type": "code",
      "execution_count": null,
      "metadata": {
        "colab": {
          "base_uri": "https://localhost:8080/"
        },
        "id": "z5lH3MwDdj-h",
        "outputId": "5921f955-a814-4516-e2a4-321993841ff0"
      },
      "outputs": [],
      "source": [
        "hier.labels_"
      ]
    },
    {
      "cell_type": "code",
      "execution_count": null,
      "metadata": {
        "id": "PSApE90Yd6Gk"
      },
      "outputs": [],
      "source": []
    },
    {
      "cell_type": "code",
      "execution_count": null,
      "metadata": {
        "colab": {
          "base_uri": "https://localhost:8080/",
          "height": 274
        },
        "id": "4QT5Cma-dlOr",
        "outputId": "82bbb7ba-a2e2-4aa2-985f-d3e78c102167"
      },
      "outputs": [],
      "source": [
        "plt.scatter( Y[:,0], Y[:,2], s=10, c= hier.labels_, marker='.' )\n",
        "\n",
        "plt.xticks(fontsize=20)\n",
        "plt.yticks(fontsize=20)\n",
        "\n",
        "plt.show()"
      ]
    },
    {
      "cell_type": "code",
      "execution_count": null,
      "metadata": {
        "colab": {
          "base_uri": "https://localhost:8080/",
          "height": 903
        },
        "id": "gxyaAIbJf8va",
        "outputId": "833d4d97-86b8-4c41-cccb-9ed8ce3dfc1b"
      },
      "outputs": [],
      "source": [
        "\n",
        "\n",
        "\n",
        "sb.pairplot(scaled_df, \n",
        "            plot_kws=dict(marker=\".\", linewidth=1),\n",
        "            diag_kws=dict(fill=False),\n",
        "            corner=False\n",
        "           )"
      ]
    }
  ],
  "metadata": {
    "colab": {
      "provenance": []
    },
    "kernelspec": {
      "display_name": "Python 3",
      "name": "python3"
    },
    "language_info": {
      "name": "python"
    }
  },
  "nbformat": 4,
  "nbformat_minor": 0
}
